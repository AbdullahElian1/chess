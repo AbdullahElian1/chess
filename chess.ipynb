{
 "cells": [
  {
   "cell_type": "code",
   "execution_count": 1,
   "id": "08ac75d0",
   "metadata": {},
   "outputs": [],
   "source": [
    "import numpy as np\n",
    "import matplotlib.pyplot as plt"
   ]
  },
  {
   "cell_type": "code",
   "execution_count": 2,
   "id": "fbab6f3f",
   "metadata": {},
   "outputs": [],
   "source": [
    "class ChessBoard :\n",
    "    def __init__(self):\n",
    "        ''' Create Chees Board in White and Black '''\n",
    "        self.grid = np.zeros((8,8,3))\n",
    "        div=1\n",
    "        for col in range (8):\n",
    "            for row in range(8):\n",
    "                div=0 if div else 1\n",
    "                if row %2==div and col%2 ==div:\n",
    "                 self.grid[col][row]=[1,1,1]\n",
    "\n",
    "    def add_red(self, row, col):\n",
    "        ''' Add Red peice '''\n",
    "        self.grid[col][row]=[1,0,0]\n",
    "\n",
    "    def add_blue(self, row, col):\n",
    "        ''' Add Blue peice '''\n",
    "        self.grid[col][row]=[0,0,1]\n",
    "\n",
    "    def is_under_attack(self,ax,ay,bx,by):\n",
    "       ''' check If the The Queen Under Attack '''\n",
    "       dx = abs(ax - bx)\n",
    "       dy = abs(ay - by)\n",
    "\n",
    "       if dx==dy or ax==bx or ay==by :\n",
    "           return True\n",
    "\n",
    "       else:\n",
    "           \n",
    "            return False\n",
    "\n",
    "    def render(self):\n",
    "        ''' Render The cheese Board  '''\n",
    "        plt.imshow(self.grid)"
   ]
  },
  {
   "cell_type": "code",
   "execution_count": 3,
   "id": "803d5507",
   "metadata": {},
   "outputs": [
    {
     "data": {
      "image/png": "[encoded data removed]",
      "text/plain": [
       "<Figure size 432x288 with 1 Axes>"
      ]
     },
     "metadata": {
      "needs_background": "light"
     },
     "output_type": "display_data"
    }
   ],
   "source": [
    "bored=ChessBoard ()\n",
    "bored.add_blue(7,6)\n",
    "bored.add_red(7,4)\n",
    "bored.render()"
   ]
  },
  {
   "cell_type": "code",
   "execution_count": 4,
   "id": "14e99184-5fba-49fb-bb00-8d7e7527c82e",
   "metadata": {},
   "outputs": [],
   "source": [
    "assert bored.is_under_attack(0,0,1,1) == True\n",
    "assert bored.is_under_attack(0,0,1,2) == False\n",
    "assert bored.is_under_attack(3,0,2,1) == True\n",
    "assert bored.is_under_attack(1,1,0,0) == True\n",
    "assert bored.is_under_attack(1,2,0,0) == False\n",
    "assert bored.is_under_attack(2,1,3,0) == True\n",
    "assert bored.is_under_attack(1,1,1,0) == True\n",
    "assert bored.is_under_attack(1,2,1,2) == True"
   ]
  },
  {
   "cell_type": "code",
   "execution_count": null,
   "id": "df5dc5a5-6370-4099-84cd-5c6bfd1327c2",
   "metadata": {},
   "outputs": [],
   "source": []
  }
 ],
 "metadata": {
  "interpreter": {
   "hash": "9b63d7a917b719a68e86222c8a68fbcdeb77442adb0a0231b69e8f913b78410b"
  },
  "kernelspec": {
   "display_name": "Python 3 (ipykernel)",
   "language": "python",
   "name": "python3"
  },
  "language_info": {
   "codemirror_mode": {
    "name": "ipython",
    "version": 3
   },
   "file_extension": ".py",
   "mimetype": "text/x-python",
   "name": "python",
   "nbconvert_exporter": "python",
   "pygments_lexer": "ipython3",
   "version": "3.9.6"
  }
 },
 "nbformat": 4,
 "nbformat_minor": 5
}
